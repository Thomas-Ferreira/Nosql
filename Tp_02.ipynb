{
 "cells": [
  {
   "cell_type": "markdown",
   "metadata": {},
   "source": [
    "retauration de la db gym:\n",
    "\n",
    "mongorestore --db gym C:\\Users\\thoma\\OneDrive\\Bureau\\nosql\\Gymnase-mongodb\\Gymnases.bson\n",
    "mongorestore --db gym C:\\Users\\thoma\\OneDrive\\Bureau\\nosql\\Gymnase-mongodb\\Sportifs.bson\n"
   ]
  },
  {
   "cell_type": "markdown",
   "metadata": {},
   "source": [
    "# 1"
   ]
  },
  {
   "cell_type": "code",
   "execution_count": 1,
   "metadata": {},
   "outputs": [
    {
     "name": "stdout",
     "output_type": "stream",
     "text": [
      "['Sportifs', 'Gymnases']\n"
     ]
    }
   ],
   "source": [
    "from pymongo import MongoClient\n",
    "\n",
    "client = MongoClient()\n",
    "db = client.gym\n",
    "\n",
    "print(db.list_collection_names())"
   ]
  },
  {
   "cell_type": "code",
   "execution_count": 2,
   "metadata": {},
   "outputs": [],
   "source": [
    "gymnases_post=db.Gymnases\n",
    "sportifs_post=db.Sportifs\n",
    "\n",
    "items = gymnases_post.find()\n"
   ]
  },
  {
   "cell_type": "markdown",
   "metadata": {},
   "source": [
    "# 2"
   ]
  },
  {
   "cell_type": "code",
   "execution_count": 6,
   "metadata": {},
   "outputs": [
    {
     "name": "stdout",
     "output_type": "stream",
     "text": [
      "{'_id': '566eec5f662b388eba464204', 'IdSportif': 2, 'Nom': 'KERVADEC', 'Prenom': 'Yann', 'Sexe': 'M', 'Age': 28, 'IdSportifConseiller': 1, 'Sports': {'Jouer': ['Basket ball', 'Volley ball', 'Ping pong', 'Football'], 'Arbitrer': ['Hockey', 'Football'], 'Entrainer': ['Basket ball', 'Volley ball', 'Hand ball', 'Tennis', 'Hockey', 'Badmington', 'Ping pong', 'Boxe']}}\n"
     ]
    }
   ],
   "source": [
    "items = sportifs_post.find({\"Nom\":\"KERVADEC\"})\n",
    "\n",
    "for item in items:\n",
    "    print (item)"
   ]
  },
  {
   "cell_type": "markdown",
   "metadata": {},
   "source": [
    "# 3"
   ]
  },
  {
   "cell_type": "code",
   "execution_count": 23,
   "metadata": {},
   "outputs": [
    {
     "name": "stdout",
     "output_type": "stream",
     "text": [
      "{'_id': '566eec5f662b388eba464206', 'IdSportif': 4, 'Nom': 'DORLEANS', 'Prenom': 'Jean-michel', 'Age': 32}\n",
      "{'_id': '566eec5f662b388eba46421d', 'IdSportif': 28, 'Nom': 'RABAHI', 'Prenom': 'Rabah', 'Age': 40}\n",
      "{'_id': '566eec60662b388eba46423d', 'IdSportif': 60, 'Nom': 'TIZEGHAT', 'Prenom': 'Benamar', 'Age': 32}\n",
      "{'_id': '566eec60662b388eba46423f', 'IdSportif': 62, 'Nom': 'BAZOUD', 'Prenom': 'Jérôme', 'Age': 32}\n",
      "{'_id': '566eec60662b388eba464253', 'IdSportif': 82, 'Nom': 'HOUEL', 'Prenom': 'Jean-louis', 'Age': 40}\n",
      "{'_id': '566eec60662b388eba464264', 'IdSportif': 99, 'Nom': 'BONE', 'Prenom': 'Guy', 'Age': 32}\n"
     ]
    }
   ],
   "source": [
    "items = sportifs_post.find({\"Age\":{\"$in\":[32, 40]}},{\"Nom\":1, \"Prenom\":1, \"Age\":1, \"IdSportif\":1})\n",
    "\n",
    "for item in items:\n",
    "    print (item)"
   ]
  },
  {
   "cell_type": "markdown",
   "metadata": {},
   "source": [
    "# 4"
   ]
  },
  {
   "cell_type": "code",
   "execution_count": 26,
   "metadata": {},
   "outputs": [
    {
     "name": "stdout",
     "output_type": "stream",
     "text": [
      "{'_id': '566eec5f662b388eba464204', 'IdSportif': 2, 'Nom': 'KERVADEC', 'Prenom': 'Yann', 'Sports': {'Jouer': 'Basket ball'}}\n",
      "{'_id': '566eec5f662b388eba464207', 'IdSportif': 5, 'Nom': 'COMES', 'Prenom': 'Sylvie', 'Sports': {'Jouer': 'Basket ball'}}\n",
      "{'_id': '566eec5f662b388eba464208', 'IdSportif': 6, 'Nom': 'RETALDI', 'Prenom': 'Sophie', 'Sports': {'Jouer': 'Basket ball'}}\n",
      "{'_id': '566eec5f662b388eba46420f', 'IdSportif': 14, 'Nom': 'CAILLIOT', 'Prenom': 'Stéphanie', 'Sports': {'Jouer': 'Basket ball'}}\n",
      "{'_id': '566eec5f662b388eba464215', 'IdSportif': 20, 'Nom': 'TIENER', 'Prenom': 'Thomas', 'Sports': {'Jouer': 'Basket ball'}}\n",
      "{'_id': '566eec5f662b388eba464217', 'IdSportif': 22, 'Nom': 'LEDUFAUD', 'Prenom': 'Pierre', 'Sports': {'Jouer': 'Basket ball'}}\n",
      "{'_id': '566eec5f662b388eba464219', 'IdSportif': 24, 'Nom': 'LEJEUNE', 'Prenom': 'Sylvaine', 'Sports': {'Jouer': 'Basket ball'}}\n",
      "{'_id': '566eec5f662b388eba46421d', 'IdSportif': 28, 'Nom': 'RABAHI', 'Prenom': 'Rabah', 'Sports': {'Jouer': 'Basket ball'}}\n",
      "{'_id': '566eec5f662b388eba464221', 'IdSportif': 32, 'Nom': 'VAN CAUTER', 'Prenom': 'Vincent', 'Sports': {'Jouer': 'Basket ball'}}\n",
      "{'_id': '566eec60662b388eba464224', 'IdSportif': 35, 'Nom': 'TANQUE', 'Prenom': 'Yann', 'Sports': {'Jouer': 'Basket ball'}}\n",
      "{'_id': '566eec60662b388eba464225', 'IdSportif': 36, 'Nom': 'DJELOUDANE', 'Prenom': 'Zinedine', 'Sports': {'Jouer': 'Basket ball'}}\n",
      "{'_id': '566eec60662b388eba464229', 'IdSportif': 40, 'Nom': 'VALIN', 'Prenom': 'Yann', 'Sports': {'Jouer': 'Basket ball'}}\n",
      "{'_id': '566eec60662b388eba46422d', 'IdSportif': 44, 'Nom': 'ADIBO', 'Prenom': 'Senamé', 'Sports': {'Jouer': 'Basket ball'}}\n",
      "{'_id': '566eec60662b388eba464231', 'IdSportif': 48, 'Nom': 'HEDDI', 'Prenom': 'Zohra', 'Sports': {'Jouer': 'Basket ball'}}\n",
      "{'_id': '566eec60662b388eba464232', 'IdSportif': 49, 'Nom': 'JOUVE', 'Prenom': 'Sandra', 'Sports': {'Jouer': 'Basket ball'}}\n",
      "{'_id': '566eec60662b388eba464233', 'IdSportif': 50, 'Nom': 'KALOMBO', 'Prenom': 'Yannick', 'Sports': {'Jouer': 'Basket ball'}}\n",
      "{'_id': '566eec60662b388eba464234', 'IdSportif': 51, 'Nom': 'LOPEZ', 'Prenom': 'Thibaud', 'Sports': {'Jouer': 'Basket ball'}}\n",
      "{'_id': '566eec60662b388eba464235', 'IdSportif': 52, 'Nom': 'DANDOIS', 'Prenom': 'Régis', 'Sports': {'Jouer': 'Basket ball'}}\n",
      "{'_id': '566eec60662b388eba464236', 'IdSportif': 53, 'Nom': 'DEMMER', 'Prenom': 'Thomas', 'Sports': {'Jouer': 'Basket ball'}}\n",
      "{'_id': '566eec60662b388eba464239', 'IdSportif': 56, 'Nom': 'GUERRAOUI', 'Prenom': 'Zohra', 'Sports': {'Jouer': 'Basket ball'}}\n",
      "{'_id': '566eec60662b388eba46423b', 'IdSportif': 58, 'Nom': 'GUIGUI', 'Prenom': 'Vincent', 'Sports': {'Jouer': 'Basket ball'}}\n",
      "{'_id': '566eec60662b388eba46423c', 'IdSportif': 59, 'Nom': 'CLERICE', 'Prenom': 'Stéphanie', 'Sports': {'Jouer': 'Basket ball'}}\n",
      "{'_id': '566eec60662b388eba464240', 'IdSportif': 63, 'Nom': 'AMAND', 'Prenom': 'Patrick', 'Sports': {'Jouer': 'Basket ball'}}\n",
      "{'_id': '566eec60662b388eba464246', 'IdSportif': 69, 'Nom': 'MARIE', 'Prenom': 'Paule', 'Sports': {'Jouer': 'Basket ball'}}\n",
      "{'_id': '566eec60662b388eba46424e', 'IdSportif': 77, 'Nom': 'HEON', 'Prenom': 'Philippe', 'Sports': {'Jouer': 'Basket ball'}}\n",
      "{'_id': '566eec60662b388eba464251', 'IdSportif': 80, 'Nom': 'HOCHET', 'Prenom': 'Pierre', 'Sports': {'Jouer': 'Basket ball'}}\n",
      "{'_id': '566eec60662b388eba464256', 'IdSportif': 85, 'Nom': 'HAMARD', 'Prenom': 'Romain', 'Sports': {'Jouer': 'Basket ball'}}\n",
      "{'_id': '566eec60662b388eba464259', 'IdSportif': 88, 'Nom': 'LEJEUNE', 'Prenom': 'Richard', 'Sports': {'Jouer': 'Basket ball'}}\n",
      "{'_id': '566eec60662b388eba46425c', 'IdSportif': 91, 'Nom': 'LECHEVALIER', 'Prenom': 'Patrick', 'Sports': {'Jouer': 'Basket ball'}}\n",
      "{'_id': '566eec60662b388eba46425f', 'IdSportif': 94, 'Nom': 'LEROUX', 'Prenom': 'Paule', 'Sports': {'Jouer': 'Basket ball'}}\n",
      "{'_id': '566eec60662b388eba464263', 'IdSportif': 98, 'Nom': 'RICHARD', 'Prenom': 'William', 'Sports': {'Jouer': 'Basket ball'}}\n",
      "{'_id': '566eec60662b388eba46426a', 'IdSportif': 105, 'Nom': 'STILO', 'Prenom': 'Philippe', 'Sports': {'Jouer': 'Basket ball'}}\n",
      "{'_id': '566eec60662b388eba46426d', 'IdSportif': 108, 'Nom': 'LAURENCE', 'Prenom': 'Serge', 'Sports': {'Jouer': 'Basket ball'}}\n",
      "{'_id': '566eec60662b388eba46426e', 'IdSportif': 109, 'Nom': 'SAUVAGE', 'Prenom': 'Patrick', 'Sports': {'Jouer': 'Basket ball'}}\n",
      "{'_id': '566eec60662b388eba464277', 'IdSportif': 118, 'Nom': 'FROMENT', 'Prenom': 'Philippe', 'Sports': {'Jouer': 'Basket ball'}}\n",
      "{'_id': '566eec60662b388eba46427c', 'IdSportif': 123, 'Nom': 'LETHIMONNIER', 'Prenom': 'Victor', 'Sports': {'Jouer': 'Basket ball'}}\n",
      "{'_id': '566eec60662b388eba46427e', 'IdSportif': 125, 'Nom': 'JALON', 'Prenom': 'Patrick', 'Sports': {'Jouer': 'Basket ball'}}\n",
      "{'_id': '566eec60662b388eba464282', 'IdSportif': 129, 'Nom': 'DABON', 'Prenom': 'Richard', 'Sports': {'Jouer': 'Basket ball'}}\n",
      "{'_id': '566eec60662b388eba464285', 'IdSportif': 132, 'Nom': 'DORON', 'Prenom': 'Yannick', 'Sports': {'Jouer': 'Basket ball'}}\n",
      "{'_id': '566eec60662b388eba464296', 'IdSportif': 149, 'Nom': 'BELZ', 'Prenom': 'Sylvianne', 'Sports': {'Jouer': 'Basket ball'}}\n",
      "{'_id': '566eec60662b388eba464298', 'IdSportif': 151, 'Nom': 'HENRY', 'Prenom': 'Maël', 'Sports': {'Jouer': 'Basket ball'}}\n"
     ]
    }
   ],
   "source": [
    "items = sportifs_post.find({\"Sports.Jouer\":\"Basket ball\"},{\"Nom\":1, \"Prenom\":1, \"Sports.Jouer\":\"Basket ball\", \"IdSportif\":1})\n",
    "\n",
    "for item in items:\n",
    "    print (item)\n"
   ]
  },
  {
   "cell_type": "markdown",
   "metadata": {},
   "source": [
    "# 5"
   ]
  },
  {
   "cell_type": "code",
   "execution_count": 37,
   "metadata": {},
   "outputs": [
    {
     "name": "stdout",
     "output_type": "stream",
     "text": [
      "{'_id': '566eec5f662b388eba464205', 'IdSportif': 3, 'Nom': 'HUE', 'Prenom': 'Pascale', 'Sexe': 'F', 'Age': 25}\n",
      "{'_id': '566eec5f662b388eba464206', 'IdSportif': 4, 'Nom': 'DORLEANS', 'Prenom': 'Jean-michel', 'Sexe': 'M', 'Age': 32}\n",
      "{'_id': '566eec5f662b388eba464207', 'IdSportif': 5, 'Nom': 'COMES', 'Prenom': 'Sylvie', 'Sexe': 'F', 'Age': 22}\n",
      "{'_id': '566eec5f662b388eba464208', 'IdSportif': 6, 'Nom': 'RETALDI', 'Prenom': 'Sophie', 'Sexe': 'F', 'Age': 30}\n",
      "{'_id': '566eec5f662b388eba46420a', 'IdSportif': 9, 'Nom': 'ANTUNES', 'Prenom': 'Gaêlle', 'Sexe': 'F', 'Age': 23}\n",
      "{'_id': '566eec5f662b388eba46420f', 'IdSportif': 14, 'Nom': 'CAILLIOT', 'Prenom': 'Stéphanie', 'Sexe': 'F', 'Age': 24}\n",
      "{'_id': '566eec5f662b388eba464213', 'IdSportif': 18, 'Nom': 'HOSNI', 'Prenom': 'Leila', 'Sexe': 'F', 'Age': 25}\n",
      "{'_id': '566eec5f662b388eba464219', 'IdSportif': 24, 'Nom': 'LEJEUNE', 'Prenom': 'Sylvaine', 'Sexe': 'F', 'Age': 23}\n",
      "{'_id': '566eec5f662b388eba46421b', 'IdSportif': 26, 'Nom': 'MICHEL', 'Prenom': 'Frédérique', 'Sexe': 'F', 'Age': 23}\n",
      "{'_id': '566eec5f662b388eba46421d', 'IdSportif': 28, 'Nom': 'RABAHI', 'Prenom': 'Rabah', 'Sexe': 'M', 'Age': 40}\n",
      "{'_id': '566eec5f662b388eba46421e', 'IdSportif': 29, 'Nom': 'ROUSSEL', 'Prenom': 'Nadège', 'Sexe': 'F', 'Age': 22}\n",
      "{'_id': '566eec60662b388eba464226', 'IdSportif': 37, 'Nom': 'LAZZARI', 'Prenom': 'Magali', 'Sexe': 'F', 'Age': 25}\n",
      "{'_id': '566eec60662b388eba46422a', 'IdSportif': 41, 'Nom': 'DELOVINA', 'Prenom': 'Elina', 'Sexe': 'F', 'Age': 22}\n",
      "{'_id': '566eec60662b388eba46422c', 'IdSportif': 43, 'Nom': 'MATHIEU', 'Prenom': 'Denise', 'Sexe': 'F', 'Age': 23}\n",
      "{'_id': '566eec60662b388eba464230', 'IdSportif': 47, 'Nom': 'GROEN', 'Prenom': 'Céline', 'Sexe': 'F', 'Age': 25}\n",
      "{'_id': '566eec60662b388eba464231', 'IdSportif': 48, 'Nom': 'HEDDI', 'Prenom': 'Zohra', 'Sexe': 'F', 'Age': 23}\n",
      "{'_id': '566eec60662b388eba464232', 'IdSportif': 49, 'Nom': 'JOUVE', 'Prenom': 'Sandra', 'Sexe': 'F', 'Age': 24}\n",
      "{'_id': '566eec60662b388eba464239', 'IdSportif': 56, 'Nom': 'GUERRAOUI', 'Prenom': 'Zohra', 'Sexe': 'F', 'Age': 25}\n",
      "{'_id': '566eec60662b388eba46423c', 'IdSportif': 59, 'Nom': 'CLERICE', 'Prenom': 'Stéphanie', 'Sexe': 'F', 'Age': 23}\n",
      "{'_id': '566eec60662b388eba46423d', 'IdSportif': 60, 'Nom': 'TIZEGHAT', 'Prenom': 'Benamar', 'Sexe': 'M', 'Age': 32}\n",
      "{'_id': '566eec60662b388eba46423f', 'IdSportif': 62, 'Nom': 'BAZOUD', 'Prenom': 'Jérôme', 'Sexe': 'M', 'Age': 32}\n",
      "{'_id': '566eec60662b388eba464241', 'IdSportif': 64, 'Nom': 'LANOE', 'Prenom': 'Françoise', 'Sexe': 'F', 'Age': 30}\n",
      "{'_id': '566eec60662b388eba464244', 'IdSportif': 67, 'Nom': 'VONTHRON', 'Prenom': 'Dominique', 'Sexe': 'F', 'Age': 26}\n",
      "{'_id': '566eec60662b388eba464245', 'IdSportif': 68, 'Nom': 'REGNAULD', 'Prenom': 'Jeanne', 'Sexe': 'F', 'Age': 30}\n",
      "{'_id': '566eec60662b388eba464246', 'IdSportif': 69, 'Nom': 'MARIE', 'Prenom': 'Paule', 'Sexe': 'F', 'Age': 25}\n",
      "{'_id': '566eec60662b388eba46424c', 'IdSportif': 75, 'Nom': 'SARRAZIN', 'Prenom': 'Noëlle', 'Sexe': 'F', 'Age': 39}\n",
      "{'_id': '566eec60662b388eba46424d', 'IdSportif': 76, 'Nom': 'HALGATTE', 'Prenom': 'Claude', 'Sexe': 'F', 'Age': 30}\n",
      "{'_id': '566eec60662b388eba464252', 'IdSportif': 81, 'Nom': 'DROULLON', 'Prenom': 'Joëlle', 'Sexe': 'F', 'Age': 30}\n",
      "{'_id': '566eec60662b388eba464253', 'IdSportif': 82, 'Nom': 'HOUEL', 'Prenom': 'Jean-louis', 'Sexe': 'M', 'Age': 40}\n",
      "{'_id': '566eec60662b388eba46425f', 'IdSportif': 94, 'Nom': 'LEROUX', 'Prenom': 'Paule', 'Sexe': 'M', 'Age': 36}\n",
      "{'_id': '566eec60662b388eba464264', 'IdSportif': 99, 'Nom': 'BONE', 'Prenom': 'Guy', 'Sexe': 'M', 'Age': 32}\n",
      "{'_id': '566eec60662b388eba464269', 'IdSportif': 104, 'Nom': 'SEHIER', 'Prenom': 'Dominique', 'Sexe': 'F', 'Age': 30}\n",
      "{'_id': '566eec60662b388eba464273', 'IdSportif': 114, 'Nom': 'MICHEL', 'Prenom': 'Danielle', 'Sexe': 'F', 'Age': 22}\n",
      "{'_id': '566eec60662b388eba464275', 'IdSportif': 116, 'Nom': 'BELUAU', 'Prenom': 'Gilberte', 'Sexe': 'F', 'Age': 30}\n",
      "{'_id': '566eec60662b388eba464276', 'IdSportif': 117, 'Nom': 'FERREIRA', 'Prenom': 'Martine', 'Sexe': 'F', 'Age': 30}\n",
      "{'_id': '566eec60662b388eba46427b', 'IdSportif': 122, 'Nom': 'BECQUET', 'Prenom': 'Erika', 'Sexe': 'F', 'Age': 30}\n",
      "{'_id': '566eec60662b388eba46427d', 'IdSportif': 124, 'Nom': 'SWERTVAEGER', 'Prenom': 'Michelle', 'Sexe': 'F', 'Age': 30}\n",
      "{'_id': '566eec60662b388eba464284', 'IdSportif': 131, 'Nom': 'GALLOIS', 'Prenom': 'Michelle', 'Sexe': 'F', 'Age': 30}\n",
      "{'_id': '566eec60662b388eba464289', 'IdSportif': 136, 'Nom': 'LABOULAIS', 'Prenom': 'Chloé', 'Sexe': 'F', 'Age': 26}\n",
      "{'_id': '566eec60662b388eba46428a', 'IdSportif': 137, 'Nom': 'DUDOUIT', 'Prenom': 'Chloé', 'Sexe': 'F', 'Age': 26}\n",
      "{'_id': '566eec60662b388eba46428b', 'IdSportif': 138, 'Nom': 'MADELAINE', 'Prenom': 'Chloé', 'Sexe': 'F', 'Age': 26}\n",
      "{'_id': '566eec60662b388eba46428c', 'IdSportif': 139, 'Nom': 'BESNARD', 'Prenom': 'Chloé', 'Sexe': 'F', 'Age': 26}\n",
      "{'_id': '566eec60662b388eba46428d', 'IdSportif': 140, 'Nom': 'BELZ', 'Prenom': 'Chloé', 'Sexe': 'F', 'Age': 26}\n",
      "{'_id': '566eec60662b388eba46428e', 'IdSportif': 141, 'Nom': 'BONNET', 'Prenom': 'Chloé', 'Sexe': 'F', 'Age': 26}\n",
      "{'_id': '566eec60662b388eba46428f', 'IdSportif': 142, 'Nom': 'CORNET', 'Prenom': 'Chloé', 'Sexe': 'F', 'Age': 26}\n",
      "{'_id': '566eec60662b388eba464290', 'IdSportif': 143, 'Nom': 'BEUZELIN', 'Prenom': 'Chloé', 'Sexe': 'F', 'Age': 26}\n",
      "{'_id': '566eec60662b388eba464291', 'IdSportif': 144, 'Nom': 'GRANDIDIER', 'Prenom': 'Chloé', 'Sexe': 'F', 'Age': 26}\n",
      "{'_id': '566eec60662b388eba464292', 'IdSportif': 145, 'Nom': 'LENEVEU', 'Prenom': 'Marie', 'Sexe': 'F', 'Age': 25}\n",
      "{'_id': '566eec60662b388eba464294', 'IdSportif': 147, 'Nom': 'CLERICE', 'Prenom': 'Alice', 'Sexe': 'F', 'Age': 25}\n",
      "{'_id': '566eec60662b388eba464295', 'IdSportif': 148, 'Nom': 'COMES', 'Prenom': 'Marie', 'Sexe': 'F', 'Age': 27}\n",
      "{'_id': '566eec60662b388eba464296', 'IdSportif': 149, 'Nom': 'BELZ', 'Prenom': 'Sylvianne', 'Sexe': 'F', 'Age': 27}\n"
     ]
    }
   ],
   "source": [
    "items = sportifs_post.find({\"$or\":[{\"Age\":{\"$gte\":32}},{\"Sexe\":\"F\"}]},\n",
    "                           {\"Nom\":1, \"Prenom\":1, \"Age\":1, \"Sexe\":1, \"IdSportif\":1})\n",
    "\n",
    "for item in items:\n",
    "    print (item)\n"
   ]
  },
  {
   "cell_type": "markdown",
   "metadata": {},
   "source": [
    "# 6"
   ]
  },
  {
   "cell_type": "code",
   "execution_count": 45,
   "metadata": {},
   "outputs": [
    {
     "name": "stdout",
     "output_type": "stream",
     "text": [
      "Nombres de Sportifs feminin: 44\n"
     ]
    }
   ],
   "source": [
    "items = sportifs_post.find({\"Sexe\":\"F\"})\n",
    "\n",
    "count=0\n",
    "\n",
    "for item in items:\n",
    "    count=count+1\n",
    "\n",
    "print(\"Nombres de Sportifs feminin:\",count)"
   ]
  },
  {
   "cell_type": "markdown",
   "metadata": {},
   "source": [
    "# 7"
   ]
  },
  {
   "cell_type": "code",
   "execution_count": 48,
   "metadata": {},
   "outputs": [
    {
     "name": "stdout",
     "output_type": "stream",
     "text": [
      "Sportifs entre 20 et 30 ans\n",
      "{'_id': '566eec5f662b388eba464203', 'IdSportif': 1, 'Nom': 'BOUTAHAR', 'Prenom': 'Abderahim'}\n",
      "{'_id': '566eec5f662b388eba464204', 'IdSportif': 2, 'Nom': 'KERVADEC', 'Prenom': 'Yann'}\n",
      "{'_id': '566eec5f662b388eba464205', 'IdSportif': 3, 'Nom': 'HUE', 'Prenom': 'Pascale'}\n",
      "{'_id': '566eec5f662b388eba464207', 'IdSportif': 5, 'Nom': 'COMES', 'Prenom': 'Sylvie'}\n",
      "{'_id': '566eec5f662b388eba464208', 'IdSportif': 6, 'Nom': 'RETALDI', 'Prenom': 'Sophie'}\n",
      "{'_id': '566eec5f662b388eba464209', 'IdSportif': 7, 'Nom': 'GOMEZ', 'Prenom': 'Diego'}\n",
      "{'_id': '566eec5f662b388eba46420a', 'IdSportif': 9, 'Nom': 'ANTUNES', 'Prenom': 'Gaêlle'}\n",
      "{'_id': '566eec5f662b388eba46420b', 'IdSportif': 10, 'Nom': 'BLANDET', 'Prenom': 'Arnaud'}\n",
      "{'_id': '566eec5f662b388eba46420c', 'IdSportif': 11, 'Nom': 'BONNET', 'Prenom': 'Christophe'}\n",
      "{'_id': '566eec5f662b388eba46420d', 'IdSportif': 12, 'Nom': 'BORREL', 'Prenom': 'Benoît'}\n",
      "{'_id': '566eec5f662b388eba46420e', 'IdSportif': 13, 'Nom': 'BOYON', 'Prenom': 'Julien'}\n",
      "{'_id': '566eec5f662b388eba46420f', 'IdSportif': 14, 'Nom': 'CAILLIOT', 'Prenom': 'Stéphanie'}\n",
      "{'_id': '566eec5f662b388eba464210', 'IdSportif': 15, 'Nom': 'CHAMPENOIS', 'Prenom': 'Cédric'}\n",
      "{'_id': '566eec5f662b388eba464211', 'IdSportif': 16, 'Nom': 'COLAS', 'Prenom': 'Michaël'}\n",
      "{'_id': '566eec5f662b388eba464212', 'IdSportif': 17, 'Nom': 'COLOMB', 'Prenom': 'Michaël'}\n",
      "{'_id': '566eec5f662b388eba464213', 'IdSportif': 18, 'Nom': 'HOSNI', 'Prenom': 'Leila'}\n",
      "{'_id': '566eec5f662b388eba464214', 'IdSportif': 19, 'Nom': 'TESTEMONT', 'Prenom': 'Laurent'}\n",
      "{'_id': '566eec5f662b388eba464215', 'IdSportif': 20, 'Nom': 'TIENER', 'Prenom': 'Thomas'}\n",
      "{'_id': '566eec5f662b388eba464216', 'IdSportif': 21, 'Nom': 'LE BOUCHER', 'Prenom': 'Denis'}\n",
      "{'_id': '566eec5f662b388eba464217', 'IdSportif': 22, 'Nom': 'LEDUFAUD', 'Prenom': 'Pierre'}\n",
      "{'_id': '566eec5f662b388eba464218', 'IdSportif': 23, 'Nom': 'LEGRAND', 'Prenom': 'David'}\n",
      "{'_id': '566eec5f662b388eba464219', 'IdSportif': 24, 'Nom': 'LEJEUNE', 'Prenom': 'Sylvaine'}\n",
      "{'_id': '566eec5f662b388eba46421a', 'IdSportif': 25, 'Nom': 'MARTORA', 'Prenom': 'Fabrice'}\n",
      "{'_id': '566eec5f662b388eba46421b', 'IdSportif': 26, 'Nom': 'MICHEL', 'Prenom': 'Frédérique'}\n",
      "{'_id': '566eec5f662b388eba46421c', 'IdSportif': 27, 'Nom': 'NIELLEZ', 'Prenom': 'Christophe'}\n",
      "{'_id': '566eec5f662b388eba46421e', 'IdSportif': 29, 'Nom': 'ROUSSEL', 'Prenom': 'Nadège'}\n",
      "{'_id': '566eec5f662b388eba46421f', 'IdSportif': 30, 'Nom': 'SCHINK', 'Prenom': 'Nicolas'}\n",
      "{'_id': '566eec5f662b388eba464220', 'IdSportif': 31, 'Nom': 'STEMPUT', 'Prenom': 'Mathieu'}\n",
      "{'_id': '566eec5f662b388eba464221', 'IdSportif': 32, 'Nom': 'VAN CAUTER', 'Prenom': 'Vincent'}\n",
      "{'_id': '566eec60662b388eba464222', 'IdSportif': 33, 'Nom': 'RAMPNOUX', 'Prenom': 'Jean françois'}\n",
      "{'_id': '566eec60662b388eba464223', 'IdSportif': 34, 'Nom': 'LHERPINIERE', 'Prenom': 'Olivier'}\n",
      "{'_id': '566eec60662b388eba464224', 'IdSportif': 35, 'Nom': 'TANQUE', 'Prenom': 'Yann'}\n",
      "{'_id': '566eec60662b388eba464225', 'IdSportif': 36, 'Nom': 'DJELOUDANE', 'Prenom': 'Zinedine'}\n",
      "{'_id': '566eec60662b388eba464226', 'IdSportif': 37, 'Nom': 'LAZZARI', 'Prenom': 'Magali'}\n",
      "{'_id': '566eec60662b388eba464227', 'IdSportif': 38, 'Nom': 'VASSEMON', 'Prenom': 'Laurent'}\n",
      "{'_id': '566eec60662b388eba464228', 'IdSportif': 39, 'Nom': 'MOREL', 'Prenom': 'Mathieu'}\n",
      "{'_id': '566eec60662b388eba464229', 'IdSportif': 40, 'Nom': 'VALIN', 'Prenom': 'Yann'}\n",
      "{'_id': '566eec60662b388eba46422a', 'IdSportif': 41, 'Nom': 'DELOVINA', 'Prenom': 'Elina'}\n",
      "{'_id': '566eec60662b388eba46422b', 'IdSportif': 42, 'Nom': 'LEHOUX', 'Prenom': 'Bruno'}\n",
      "{'_id': '566eec60662b388eba46422c', 'IdSportif': 43, 'Nom': 'MATHIEU', 'Prenom': 'Denise'}\n",
      "{'_id': '566eec60662b388eba46422d', 'IdSportif': 44, 'Nom': 'ADIBO', 'Prenom': 'Senamé'}\n",
      "{'_id': '566eec60662b388eba46422e', 'IdSportif': 45, 'Nom': 'CHAVANT', 'Prenom': 'Christophe'}\n",
      "{'_id': '566eec60662b388eba46422f', 'IdSportif': 46, 'Nom': 'DAUXIAN', 'Prenom': 'Cédric'}\n",
      "{'_id': '566eec60662b388eba464230', 'IdSportif': 47, 'Nom': 'GROEN', 'Prenom': 'Céline'}\n",
      "{'_id': '566eec60662b388eba464231', 'IdSportif': 48, 'Nom': 'HEDDI', 'Prenom': 'Zohra'}\n",
      "{'_id': '566eec60662b388eba464232', 'IdSportif': 49, 'Nom': 'JOUVE', 'Prenom': 'Sandra'}\n",
      "{'_id': '566eec60662b388eba464233', 'IdSportif': 50, 'Nom': 'KALOMBO', 'Prenom': 'Yannick'}\n",
      "{'_id': '566eec60662b388eba464234', 'IdSportif': 51, 'Nom': 'LOPEZ', 'Prenom': 'Thibaud'}\n",
      "{'_id': '566eec60662b388eba464235', 'IdSportif': 52, 'Nom': 'DANDOIS', 'Prenom': 'Régis'}\n",
      "{'_id': '566eec60662b388eba464236', 'IdSportif': 53, 'Nom': 'DEMMER', 'Prenom': 'Thomas'}\n",
      "{'_id': '566eec60662b388eba464237', 'IdSportif': 54, 'Nom': 'ELKABBADJ', 'Prenom': 'Mohammed'}\n",
      "{'_id': '566eec60662b388eba464238', 'IdSportif': 55, 'Nom': 'FEROLDI', 'Prenom': 'Olivier'}\n",
      "{'_id': '566eec60662b388eba464239', 'IdSportif': 56, 'Nom': 'GUERRAOUI', 'Prenom': 'Zohra'}\n",
      "{'_id': '566eec60662b388eba46423a', 'IdSportif': 57, 'Nom': 'BOISSEAU', 'Prenom': 'Eric'}\n",
      "{'_id': '566eec60662b388eba46423b', 'IdSportif': 58, 'Nom': 'GUIGUI', 'Prenom': 'Vincent'}\n",
      "{'_id': '566eec60662b388eba46423c', 'IdSportif': 59, 'Nom': 'CLERICE', 'Prenom': 'Stéphanie'}\n",
      "{'_id': '566eec60662b388eba46423e', 'IdSportif': 61, 'Nom': 'LAZARRE', 'Prenom': 'Jean'}\n",
      "{'_id': '566eec60662b388eba464240', 'IdSportif': 63, 'Nom': 'AMAND', 'Prenom': 'Patrick'}\n",
      "{'_id': '566eec60662b388eba464241', 'IdSportif': 64, 'Nom': 'LANOE', 'Prenom': 'Françoise'}\n",
      "{'_id': '566eec60662b388eba464242', 'IdSportif': 65, 'Nom': 'CHESNIER', 'Prenom': 'Marc'}\n",
      "{'_id': '566eec60662b388eba464243', 'IdSportif': 66, 'Nom': 'DURIEU', 'Prenom': 'Loïc'}\n",
      "{'_id': '566eec60662b388eba464244', 'IdSportif': 67, 'Nom': 'VONTHRON', 'Prenom': 'Dominique'}\n",
      "{'_id': '566eec60662b388eba464245', 'IdSportif': 68, 'Nom': 'REGNAULD', 'Prenom': 'Jeanne'}\n",
      "{'_id': '566eec60662b388eba464246', 'IdSportif': 69, 'Nom': 'MARIE', 'Prenom': 'Paule'}\n",
      "{'_id': '566eec60662b388eba464247', 'IdSportif': 70, 'Nom': 'BELLAMY', 'Prenom': 'Norbert'}\n",
      "{'_id': '566eec60662b388eba464248', 'IdSportif': 71, 'Nom': 'DELAROCHE', 'Prenom': 'Bertrand'}\n",
      "{'_id': '566eec60662b388eba464249', 'IdSportif': 72, 'Nom': 'MARTEL', 'Prenom': 'Bernard'}\n",
      "{'_id': '566eec60662b388eba46424a', 'IdSportif': 73, 'Nom': 'DALLIER', 'Prenom': 'Didier'}\n",
      "{'_id': '566eec60662b388eba46424b', 'IdSportif': 74, 'Nom': 'AUVRAY', 'Prenom': 'Alain'}\n",
      "{'_id': '566eec60662b388eba46424d', 'IdSportif': 76, 'Nom': 'HALGATTE', 'Prenom': 'Claude'}\n",
      "{'_id': '566eec60662b388eba46424e', 'IdSportif': 77, 'Nom': 'HEON', 'Prenom': 'Philippe'}\n",
      "{'_id': '566eec60662b388eba46424f', 'IdSportif': 78, 'Nom': 'CHAUVIN', 'Prenom': 'Julien'}\n",
      "{'_id': '566eec60662b388eba464250', 'IdSportif': 79, 'Nom': 'HENRY', 'Prenom': 'Jacky'}\n",
      "{'_id': '566eec60662b388eba464251', 'IdSportif': 80, 'Nom': 'HOCHET', 'Prenom': 'Pierre'}\n",
      "{'_id': '566eec60662b388eba464252', 'IdSportif': 81, 'Nom': 'DROULLON', 'Prenom': 'Joëlle'}\n",
      "{'_id': '566eec60662b388eba464254', 'IdSportif': 83, 'Nom': 'LEROUX', 'Prenom': 'André'}\n",
      "{'_id': '566eec60662b388eba464255', 'IdSportif': 84, 'Nom': 'SALLAÏ', 'Prenom': 'Miloud'}\n",
      "{'_id': '566eec60662b388eba464256', 'IdSportif': 85, 'Nom': 'HAMARD', 'Prenom': 'Romain'}\n",
      "{'_id': '566eec60662b388eba464257', 'IdSportif': 86, 'Nom': 'GALLOT', 'Prenom': 'Bernard'}\n",
      "{'_id': '566eec60662b388eba464258', 'IdSportif': 87, 'Nom': 'COUESBOT', 'Prenom': 'Daniel'}\n",
      "{'_id': '566eec60662b388eba464259', 'IdSportif': 88, 'Nom': 'LEJEUNE', 'Prenom': 'Richard'}\n",
      "{'_id': '566eec60662b388eba46425a', 'IdSportif': 89, 'Nom': 'RIQUIER', 'Prenom': 'Jean-pierre'}\n",
      "{'_id': '566eec60662b388eba46425b', 'IdSportif': 90, 'Nom': 'DUREL', 'Prenom': 'Eric'}\n",
      "{'_id': '566eec60662b388eba46425c', 'IdSportif': 91, 'Nom': 'LECHEVALIER', 'Prenom': 'Patrick'}\n",
      "{'_id': '566eec60662b388eba46425d', 'IdSportif': 92, 'Nom': 'HERVIEU', 'Prenom': 'Jean-François'}\n",
      "{'_id': '566eec60662b388eba46425e', 'IdSportif': 93, 'Nom': 'CAUCHARD', 'Prenom': 'Georges'}\n",
      "{'_id': '566eec60662b388eba464260', 'IdSportif': 95, 'Nom': 'EUSTACHE', 'Prenom': 'Marcel'}\n",
      "{'_id': '566eec60662b388eba464261', 'IdSportif': 96, 'Nom': 'JANY', 'Prenom': 'Claude'}\n",
      "{'_id': '566eec60662b388eba464262', 'IdSportif': 97, 'Nom': 'BONHOMME', 'Prenom': 'Bruno'}\n",
      "{'_id': '566eec60662b388eba464263', 'IdSportif': 98, 'Nom': 'RICHARD', 'Prenom': 'William'}\n",
      "{'_id': '566eec60662b388eba464265', 'IdSportif': 100, 'Nom': 'LESOIF', 'Prenom': 'Jacques'}\n",
      "{'_id': '566eec60662b388eba464266', 'IdSportif': 101, 'Nom': 'SWERTVAEGER', 'Prenom': 'Eric'}\n",
      "{'_id': '566eec60662b388eba464267', 'IdSportif': 102, 'Nom': 'DUVAL', 'Prenom': 'Alain'}\n",
      "{'_id': '566eec60662b388eba464268', 'IdSportif': 103, 'Nom': 'LEMENOREL', 'Prenom': 'Claude'}\n",
      "{'_id': '566eec60662b388eba464269', 'IdSportif': 104, 'Nom': 'SEHIER', 'Prenom': 'Dominique'}\n",
      "{'_id': '566eec60662b388eba46426a', 'IdSportif': 105, 'Nom': 'STILO', 'Prenom': 'Philippe'}\n",
      "{'_id': '566eec60662b388eba46426b', 'IdSportif': 106, 'Nom': 'LE BANNARD', 'Prenom': 'Gérard'}\n",
      "{'_id': '566eec60662b388eba46426c', 'IdSportif': 107, 'Nom': 'BORNE', 'Prenom': 'Jean-Yves'}\n",
      "{'_id': '566eec60662b388eba46426d', 'IdSportif': 108, 'Nom': 'LAURENCE', 'Prenom': 'Serge'}\n",
      "{'_id': '566eec60662b388eba46426e', 'IdSportif': 109, 'Nom': 'SAUVAGE', 'Prenom': 'Patrick'}\n",
      "{'_id': '566eec60662b388eba46426f', 'IdSportif': 110, 'Nom': 'ROULLAND', 'Prenom': 'Christian'}\n",
      "{'_id': '566eec60662b388eba464270', 'IdSportif': 111, 'Nom': 'LESIEUR', 'Prenom': 'Michel'}\n",
      "{'_id': '566eec60662b388eba464271', 'IdSportif': 112, 'Nom': 'LUYCKX', 'Prenom': 'Gérard'}\n",
      "{'_id': '566eec60662b388eba464272', 'IdSportif': 113, 'Nom': 'AVICE', 'Prenom': 'Benoît'}\n",
      "{'_id': '566eec60662b388eba464273', 'IdSportif': 114, 'Nom': 'MICHEL', 'Prenom': 'Danielle'}\n",
      "{'_id': '566eec60662b388eba464274', 'IdSportif': 115, 'Nom': 'LEMOUSSU', 'Prenom': 'Laurent'}\n",
      "{'_id': '566eec60662b388eba464275', 'IdSportif': 116, 'Nom': 'BELUAU', 'Prenom': 'Gilberte'}\n",
      "{'_id': '566eec60662b388eba464276', 'IdSportif': 117, 'Nom': 'FERREIRA', 'Prenom': 'Martine'}\n",
      "{'_id': '566eec60662b388eba464277', 'IdSportif': 118, 'Nom': 'FROMENT', 'Prenom': 'Philippe'}\n",
      "{'_id': '566eec60662b388eba464278', 'IdSportif': 119, 'Nom': 'GUITON', 'Prenom': 'Jean-paul'}\n",
      "{'_id': '566eec60662b388eba464279', 'IdSportif': 120, 'Nom': 'LECOMTE', 'Prenom': 'Christian'}\n",
      "{'_id': '566eec60662b388eba46427a', 'IdSportif': 121, 'Nom': 'HUET', 'Prenom': 'Loïc'}\n",
      "{'_id': '566eec60662b388eba46427b', 'IdSportif': 122, 'Nom': 'BECQUET', 'Prenom': 'Erika'}\n",
      "{'_id': '566eec60662b388eba46427c', 'IdSportif': 123, 'Nom': 'LETHIMONNIER', 'Prenom': 'Victor'}\n",
      "{'_id': '566eec60662b388eba46427d', 'IdSportif': 124, 'Nom': 'SWERTVAEGER', 'Prenom': 'Michelle'}\n",
      "{'_id': '566eec60662b388eba46427e', 'IdSportif': 125, 'Nom': 'JALON', 'Prenom': 'Patrick'}\n",
      "{'_id': '566eec60662b388eba46427f', 'IdSportif': 126, 'Nom': 'DEBOUT', 'Prenom': 'Eric'}\n",
      "{'_id': '566eec60662b388eba464280', 'IdSportif': 127, 'Nom': 'GASTELLIER', 'Prenom': 'Charles'}\n",
      "{'_id': '566eec60662b388eba464281', 'IdSportif': 128, 'Nom': 'GIRONIE', 'Prenom': 'André'}\n",
      "{'_id': '566eec60662b388eba464282', 'IdSportif': 129, 'Nom': 'DABON', 'Prenom': 'Richard'}\n",
      "{'_id': '566eec60662b388eba464283', 'IdSportif': 130, 'Nom': 'LECHAUVE', 'Prenom': 'Jean-Claude'}\n",
      "{'_id': '566eec60662b388eba464284', 'IdSportif': 131, 'Nom': 'GALLOIS', 'Prenom': 'Michelle'}\n",
      "{'_id': '566eec60662b388eba464285', 'IdSportif': 132, 'Nom': 'DORON', 'Prenom': 'Yannick'}\n",
      "{'_id': '566eec60662b388eba464286', 'IdSportif': 133, 'Nom': 'LENEVEU', 'Prenom': 'Julien'}\n",
      "{'_id': '566eec60662b388eba464287', 'IdSportif': 134, 'Nom': 'LERICHE', 'Prenom': 'Harry'}\n",
      "{'_id': '566eec60662b388eba464288', 'IdSportif': 135, 'Nom': 'MANCEL', 'Prenom': 'Jean-luc'}\n",
      "{'_id': '566eec60662b388eba464289', 'IdSportif': 136, 'Nom': 'LABOULAIS', 'Prenom': 'Chloé'}\n",
      "{'_id': '566eec60662b388eba46428a', 'IdSportif': 137, 'Nom': 'DUDOUIT', 'Prenom': 'Chloé'}\n",
      "{'_id': '566eec60662b388eba46428b', 'IdSportif': 138, 'Nom': 'MADELAINE', 'Prenom': 'Chloé'}\n",
      "{'_id': '566eec60662b388eba46428c', 'IdSportif': 139, 'Nom': 'BESNARD', 'Prenom': 'Chloé'}\n",
      "{'_id': '566eec60662b388eba46428d', 'IdSportif': 140, 'Nom': 'BELZ', 'Prenom': 'Chloé'}\n",
      "{'_id': '566eec60662b388eba46428e', 'IdSportif': 141, 'Nom': 'BONNET', 'Prenom': 'Chloé'}\n",
      "{'_id': '566eec60662b388eba46428f', 'IdSportif': 142, 'Nom': 'CORNET', 'Prenom': 'Chloé'}\n",
      "{'_id': '566eec60662b388eba464290', 'IdSportif': 143, 'Nom': 'BEUZELIN', 'Prenom': 'Chloé'}\n",
      "{'_id': '566eec60662b388eba464291', 'IdSportif': 144, 'Nom': 'GRANDIDIER', 'Prenom': 'Chloé'}\n",
      "{'_id': '566eec60662b388eba464292', 'IdSportif': 145, 'Nom': 'LENEVEU', 'Prenom': 'Marie'}\n",
      "{'_id': '566eec60662b388eba464293', 'IdSportif': 146, 'Nom': 'DABON', 'Prenom': 'Rick'}\n",
      "{'_id': '566eec60662b388eba464294', 'IdSportif': 147, 'Nom': 'CLERICE', 'Prenom': 'Alice'}\n",
      "{'_id': '566eec60662b388eba464295', 'IdSportif': 148, 'Nom': 'COMES', 'Prenom': 'Marie'}\n",
      "{'_id': '566eec60662b388eba464296', 'IdSportif': 149, 'Nom': 'BELZ', 'Prenom': 'Sylvianne'}\n",
      "{'_id': '566eec60662b388eba464297', 'IdSportif': 150, 'Nom': 'BELZ', 'Prenom': 'Paul'}\n",
      "{'_id': '566eec60662b388eba464298', 'IdSportif': 151, 'Nom': 'HENRY', 'Prenom': 'Maël'}\n"
     ]
    }
   ],
   "source": [
    "items = sportifs_post.find({\"$and\":[{\"Age\":{\"$gte\":20}},{\"Age\":{\"$lte\":30}}]},\n",
    "                           {\"Nom\":1, \"Prenom\":1, \"IdSportif\":1})\n",
    "\n",
    "print(\"Sportifs entre 20 et 30 ans\")\n",
    "for item in items:\n",
    "    print (item)"
   ]
  },
  {
   "cell_type": "markdown",
   "metadata": {},
   "source": [
    "# 8"
   ]
  },
  {
   "cell_type": "code",
   "execution_count": 49,
   "metadata": {},
   "outputs": [
    {
     "name": "stdout",
     "output_type": "stream",
     "text": [
      "{'_id': '566eec5f662b388eba464208', 'IdSportif': 6, 'Nom': 'RETALDI'}\n",
      "{'_id': '566eec5f662b388eba464214', 'IdSportif': 19, 'Nom': 'TESTEMONT'}\n",
      "{'_id': '566eec5f662b388eba464215', 'IdSportif': 20, 'Nom': 'TIENER'}\n",
      "{'_id': '566eec5f662b388eba46421a', 'IdSportif': 25, 'Nom': 'MARTORA'}\n",
      "{'_id': '566eec5f662b388eba46421b', 'IdSportif': 26, 'Nom': 'MICHEL'}\n",
      "{'_id': '566eec5f662b388eba46421c', 'IdSportif': 27, 'Nom': 'NIELLEZ'}\n",
      "{'_id': '566eec5f662b388eba46421d', 'IdSportif': 28, 'Nom': 'RABAHI'}\n",
      "{'_id': '566eec5f662b388eba46421e', 'IdSportif': 29, 'Nom': 'ROUSSEL'}\n",
      "{'_id': '566eec5f662b388eba46421f', 'IdSportif': 30, 'Nom': 'SCHINK'}\n",
      "{'_id': '566eec5f662b388eba464220', 'IdSportif': 31, 'Nom': 'STEMPUT'}\n",
      "{'_id': '566eec5f662b388eba464221', 'IdSportif': 32, 'Nom': 'VAN CAUTER'}\n",
      "{'_id': '566eec60662b388eba464222', 'IdSportif': 33, 'Nom': 'RAMPNOUX'}\n",
      "{'_id': '566eec60662b388eba464223', 'IdSportif': 34, 'Nom': 'LHERPINIERE'}\n",
      "{'_id': '566eec60662b388eba464224', 'IdSportif': 35, 'Nom': 'TANQUE'}\n",
      "{'_id': '566eec60662b388eba464227', 'IdSportif': 38, 'Nom': 'VASSEMON'}\n",
      "{'_id': '566eec60662b388eba464228', 'IdSportif': 39, 'Nom': 'MOREL'}\n",
      "{'_id': '566eec60662b388eba464229', 'IdSportif': 40, 'Nom': 'VALIN'}\n",
      "{'_id': '566eec60662b388eba46422c', 'IdSportif': 43, 'Nom': 'MATHIEU'}\n",
      "{'_id': '566eec60662b388eba464234', 'IdSportif': 51, 'Nom': 'LOPEZ'}\n",
      "{'_id': '566eec60662b388eba46423d', 'IdSportif': 60, 'Nom': 'TIZEGHAT'}\n",
      "{'_id': '566eec60662b388eba464244', 'IdSportif': 67, 'Nom': 'VONTHRON'}\n",
      "{'_id': '566eec60662b388eba464245', 'IdSportif': 68, 'Nom': 'REGNAULD'}\n",
      "{'_id': '566eec60662b388eba464246', 'IdSportif': 69, 'Nom': 'MARIE'}\n",
      "{'_id': '566eec60662b388eba464249', 'IdSportif': 72, 'Nom': 'MARTEL'}\n",
      "{'_id': '566eec60662b388eba46424c', 'IdSportif': 75, 'Nom': 'SARRAZIN'}\n",
      "{'_id': '566eec60662b388eba464254', 'IdSportif': 83, 'Nom': 'LEROUX'}\n",
      "{'_id': '566eec60662b388eba464255', 'IdSportif': 84, 'Nom': 'SALLAÏ'}\n",
      "{'_id': '566eec60662b388eba46425a', 'IdSportif': 89, 'Nom': 'RIQUIER'}\n",
      "{'_id': '566eec60662b388eba46425f', 'IdSportif': 94, 'Nom': 'LEROUX'}\n",
      "{'_id': '566eec60662b388eba464263', 'IdSportif': 98, 'Nom': 'RICHARD'}\n",
      "{'_id': '566eec60662b388eba464265', 'IdSportif': 100, 'Nom': 'LESOIF'}\n",
      "{'_id': '566eec60662b388eba464266', 'IdSportif': 101, 'Nom': 'SWERTVAEGER'}\n",
      "{'_id': '566eec60662b388eba464269', 'IdSportif': 104, 'Nom': 'SEHIER'}\n",
      "{'_id': '566eec60662b388eba46426a', 'IdSportif': 105, 'Nom': 'STILO'}\n",
      "{'_id': '566eec60662b388eba46426e', 'IdSportif': 109, 'Nom': 'SAUVAGE'}\n",
      "{'_id': '566eec60662b388eba46426f', 'IdSportif': 110, 'Nom': 'ROULLAND'}\n",
      "{'_id': '566eec60662b388eba464270', 'IdSportif': 111, 'Nom': 'LESIEUR'}\n",
      "{'_id': '566eec60662b388eba464271', 'IdSportif': 112, 'Nom': 'LUYCKX'}\n",
      "{'_id': '566eec60662b388eba464273', 'IdSportif': 114, 'Nom': 'MICHEL'}\n",
      "{'_id': '566eec60662b388eba46427c', 'IdSportif': 123, 'Nom': 'LETHIMONNIER'}\n",
      "{'_id': '566eec60662b388eba46427d', 'IdSportif': 124, 'Nom': 'SWERTVAEGER'}\n",
      "{'_id': '566eec60662b388eba464288', 'IdSportif': 135, 'Nom': 'MANCEL'}\n",
      "{'_id': '566eec60662b388eba46428b', 'IdSportif': 138, 'Nom': 'MADELAINE'}\n",
      "{'_id': '566eec60662b388eba464298', 'IdSportif': 151, 'Nom': 'HENRY'}\n"
     ]
    }
   ],
   "source": [
    "items = sportifs_post.find({\"Sports.Jouer\":\"Hand ball\"},{\"Nom\":1, \"IdSportif\":1})\n",
    "\n",
    "for item in items:\n",
    "    print (item)"
   ]
  },
  {
   "cell_type": "markdown",
   "metadata": {},
   "source": [
    "# 9"
   ]
  },
  {
   "cell_type": "code",
   "execution_count": 67,
   "metadata": {},
   "outputs": [
    {
     "name": "stdout",
     "output_type": "stream",
     "text": [
      "{'_id': '566eec69662b388eba46429c', 'IdGymnase': 4, 'NomGymnase': 'PAUL ELUARD', 'Ville': 'SARCELLES', 'Surface': 500}\n",
      "{'_id': '566eec69662b388eba46429d', 'IdGymnase': 5, 'NomGymnase': 'BRASSENS', 'Ville': 'SARCELLES', 'Surface': 620}\n",
      "{'_id': '566eec69662b388eba4642a1', 'IdGymnase': 9, 'NomGymnase': 'CAMUS', 'Ville': 'SARCELLES', 'Surface': 620}\n",
      "{'_id': '566eec69662b388eba4642a8', 'IdGymnase': 16, 'NomGymnase': 'SAMOURAI', 'Ville': 'SARCELLES', 'Surface': 600}\n",
      "{'_id': '566eec69662b388eba4642ac', 'IdGymnase': 20, 'NomGymnase': 'LUMIERES', 'Ville': 'SARCELLES', 'Surface': 400}\n"
     ]
    }
   ],
   "source": [
    "items=gymnases_post.find({\"$and\":[{\"Ville\":{\"$in\":[\"SARCELLES\",\"VILLTANEUSE\"]}},{\"Surface\":{\"$gte\":400}}]},\n",
    "                        {\"NomGymnase\":1, \"IdGymnase\":1, \"Ville\":1, \"Surface\":1})\n",
    "\n",
    "for item in items:\n",
    "    print (item)"
   ]
  },
  {
   "cell_type": "markdown",
   "metadata": {},
   "source": [
    "# 10"
   ]
  },
  {
   "cell_type": "code",
   "execution_count": null,
   "metadata": {},
   "outputs": [],
   "source": []
  },
  {
   "cell_type": "code",
   "execution_count": null,
   "metadata": {},
   "outputs": [],
   "source": []
  },
  {
   "cell_type": "code",
   "execution_count": null,
   "metadata": {},
   "outputs": [],
   "source": []
  }
 ],
 "metadata": {
  "kernelspec": {
   "display_name": "Python 3",
   "language": "python",
   "name": "python3"
  },
  "language_info": {
   "codemirror_mode": {
    "name": "ipython",
    "version": 3
   },
   "file_extension": ".py",
   "mimetype": "text/x-python",
   "name": "python",
   "nbconvert_exporter": "python",
   "pygments_lexer": "ipython3",
   "version": "3.8.5"
  }
 },
 "nbformat": 4,
 "nbformat_minor": 4
}
