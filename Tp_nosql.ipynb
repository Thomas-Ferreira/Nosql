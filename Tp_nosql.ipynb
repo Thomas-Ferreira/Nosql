{
 "cells": [
  {
   "cell_type": "markdown",
   "metadata": {},
   "source": [
    "# 1. Introduction a MongoDB"
   ]
  },
  {
   "cell_type": "raw",
   "metadata": {},
   "source": [
    "# Connexion à la base de données MongoDB\n"
   ]
  },
  {
   "cell_type": "code",
   "execution_count": 2,
   "metadata": {},
   "outputs": [
    {
     "name": "stdout",
     "output_type": "stream",
     "text": [
      "['movie', 'users']\n"
     ]
    }
   ],
   "source": [
    "from pymongo import MongoClient\n",
    "\n",
    "client = MongoClient()\n",
    "db = client.metflix\n",
    "movie_post= db.movie\n",
    "\n",
    "print(db.list_collection_names())"
   ]
  },
  {
   "cell_type": "raw",
   "metadata": {},
   "source": [
    "\n",
    "# récupérer des données en utilisant find_one\n"
   ]
  },
  {
   "cell_type": "code",
   "execution_count": 2,
   "metadata": {},
   "outputs": [],
   "source": [
    "movie_post.find_one({\"title\" : \"Rocky\"})"
   ]
  },
  {
   "cell_type": "code",
   "execution_count": 3,
   "metadata": {},
   "outputs": [],
   "source": [
    "items = movie_post.find({\"title\" : \"Rocky\"})\n",
    "\n",
    "for item in items:\n",
    "    print (item)"
   ]
  },
  {
   "cell_type": "code",
   "execution_count": 4,
   "metadata": {},
   "outputs": [],
   "source": [
    "client.drop_database('metflix')"
   ]
  },
  {
   "cell_type": "code",
   "execution_count": 5,
   "metadata": {},
   "outputs": [
    {
     "data": {
      "text/plain": [
       "{'_id': ObjectId('5ffc7f104436de9b9cb22dea'), 'title': 'Rocky', 'year': 1976}"
      ]
     },
     "execution_count": 5,
     "metadata": {},
     "output_type": "execute_result"
    }
   ],
   "source": [
    "db = client.metflix\n",
    "movie_post= db.movie\n",
    "\n",
    "rocky = {\"title\":\"Rocky\", \"year\":1976}\n",
    "movie_post.insert_one(rocky)\n",
    "movie_post.find_one({\"title\" : \"Rocky\"})"
   ]
  },
  {
   "cell_type": "markdown",
   "metadata": {},
   "source": [
    "# La Table Users"
   ]
  },
  {
   "cell_type": "code",
   "execution_count": 6,
   "metadata": {},
   "outputs": [],
   "source": [
    "mon_dict = {\"nom\":\"Ferreira\", \"prenom\":\"Thomas\"}\n",
    "db = client.metflix\n",
    "user_post = db.users\n",
    "\n",
    "try:\n",
    "    user_post.insert_one(mon_dict)\n",
    "    \n",
    "except:\n",
    "    print(\"error\")\n"
   ]
  },
  {
   "cell_type": "code",
   "execution_count": 7,
   "metadata": {
    "scrolled": true
   },
   "outputs": [
    {
     "name": "stdout",
     "output_type": "stream",
     "text": [
      "{'_id': ObjectId('5ffc7f104436de9b9cb22deb'), 'nom': 'Ferreira', 'prenom': 'Thomas'}\n"
     ]
    }
   ],
   "source": [
    "items = user_post.find({\"nom\":\"Ferreira\"})\n",
    "\n",
    "for item in items:\n",
    "    print (item)\n",
    "    "
   ]
  },
  {
   "cell_type": "code",
   "execution_count": 8,
   "metadata": {},
   "outputs": [
    {
     "name": "stdout",
     "output_type": "stream",
     "text": [
      "error\n"
     ]
    }
   ],
   "source": [
    "try:\n",
    "    user_post.insert_one(mon_dict)\n",
    "    \n",
    "except:\n",
    "    print(\"error\")"
   ]
  },
  {
   "cell_type": "raw",
   "metadata": {},
   "source": [
    "On a une erreur si on veut insérer le meme dictionnaire de données.\n",
    "L'id soit etre unique pour chaque dictionnaire de données il faudrait donc en recréer un autre\n"
   ]
  },
  {
   "cell_type": "markdown",
   "metadata": {},
   "source": [
    "#   insertMany() "
   ]
  },
  {
   "cell_type": "code",
   "execution_count": 3,
   "metadata": {},
   "outputs": [],
   "source": [
    "movie_post.drop()\n",
    "    "
   ]
  },
  {
   "cell_type": "raw",
   "metadata": {},
   "source": [
    "la table movie est vide je ne sais pas comment tester "
   ]
  },
  {
   "cell_type": "code",
   "execution_count": 4,
   "metadata": {},
   "outputs": [
    {
     "name": "stdout",
     "output_type": "stream",
     "text": [
      "success\n"
     ]
    }
   ],
   "source": [
    "movie_post= db.movie\n",
    "\n",
    "movie_List =[{\"title\" : \"Rocky\", \"year\" : 1976, \"_id\" : \"tt0075148\"},\n",
    "            {\"title\" : \"Jaws\", \"year\" : 1975, \"_id\" : \"tt0073195\"},\n",
    "            {\"title\" : \"Mad Max 2 : The Road Warrior\", \"year\" : 1981, \"_id\" : \"tt0082694\"},\n",
    "            {\"title\" : \"Raiders of the Lost Ark\", \"year\" : 1981, \"_id\" : \"tt0082971\"}]\n",
    "\n",
    "try:\n",
    "    movie_post.insert_many(movie_List)\n",
    "    print(\"success\")\n",
    "\n",
    "except:\n",
    "    print(\"error\")\n",
    "    \n",
    "    "
   ]
  },
  {
   "cell_type": "markdown",
   "metadata": {},
   "source": [
    "# find avec des paramètres"
   ]
  },
  {
   "cell_type": "code",
   "execution_count": 5,
   "metadata": {},
   "outputs": [
    {
     "name": "stdout",
     "output_type": "stream",
     "text": [
      "{'_id': 'tt0075148', 'title': 'Rocky', 'year': 1976}\n",
      "{'_id': 'tt0073195', 'title': 'Jaws', 'year': 1975}\n",
      "{'_id': 'tt0082694', 'title': 'Mad Max 2 : The Road Warrior', 'year': 1981}\n",
      "{'_id': 'tt0082971', 'title': 'Raiders of the Lost Ark', 'year': 1981}\n"
     ]
    }
   ],
   "source": [
    "items = movie_post.find()\n",
    "\n",
    "for item in items:\n",
    "    print (item)"
   ]
  },
  {
   "cell_type": "code",
   "execution_count": 9,
   "metadata": {},
   "outputs": [
    {
     "name": "stdout",
     "output_type": "stream",
     "text": [
      "{'_id': 'tt0082971', 'title': 'Raiders of the Lost Ark', 'year': 1981}\n"
     ]
    }
   ],
   "source": [
    "items = movie_post.find()\n",
    "for i in range(0,1):\n",
    "    print (item)"
   ]
  },
  {
   "cell_type": "code",
   "execution_count": null,
   "metadata": {},
   "outputs": [],
   "source": []
  }
 ],
 "metadata": {
  "kernelspec": {
   "display_name": "Python 3",
   "language": "python",
   "name": "python3"
  },
  "language_info": {
   "codemirror_mode": {
    "name": "ipython",
    "version": 3
   },
   "file_extension": ".py",
   "mimetype": "text/x-python",
   "name": "python",
   "nbconvert_exporter": "python",
   "pygments_lexer": "ipython3",
   "version": "3.8.5"
  }
 },
 "nbformat": 4,
 "nbformat_minor": 4
}
